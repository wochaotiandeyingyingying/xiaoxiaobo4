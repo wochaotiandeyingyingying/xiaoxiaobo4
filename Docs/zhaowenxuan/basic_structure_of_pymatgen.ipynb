{
 "cells": [
  {
   "cell_type": "code",
   "execution_count": 1,
   "metadata": {
    "collapsed": false
   },
   "outputs": [
    {
     "name": "stdout",
     "output_type": "stream",
     "text": [
      "Full Formula (Cs1 Cl1)\nReduced Formula: CsCl\nabc   :   4.200000   4.200000   4.200000\nangles:  90.000000  90.000000  90.000000\nSites (2)\n  #  SP      a    b    c\n---  ----  ---  ---  ---\n  0  Cs    0    0    0\n  1  Cl    0.5  0.5  0.5\nFirst site of the structure is [0. 0. 0.] Cs\n"
     ]
    }
   ],
   "source": [
    "import pymatgen as mg\n",
    "# Creates cubic Lattice with lattice parameter 4.2\n",
    "lattice = mg.Lattice.cubic(4.2)\n",
    "structure = mg.Structure(lattice, [\"Cs\", \"Cl\"], [[0, 0, 0], [0.5, 0.5, 0.5]])\n",
    "print(structure)\n",
    "print(\"First site of the structure is {}\".format(structure[0]))"
   ]
  },
  {
   "cell_type": "markdown",
   "metadata": {},
   "source": [
    "这是一个化学物质的结构通过，format（structure【0】）可以显示出CsCl结构矩阵中的第一行的数据。\n",
    "pymatgen基础模块里的Structure（）功能，就是做出一个化学物质的结构矩阵。"
   ]
  },
  {
   "cell_type": "markdown",
   "metadata": {},
   "source": [
    "，"
   ]
  },
  {
   "cell_type": "markdown",
   "metadata": {},
   "source": [
    ""
   ]
  }
 ],
 "metadata": {
  "kernelspec": {
   "display_name": "Python 2",
   "language": "python",
   "name": "python2"
  },
  "language_info": {
   "codemirror_mode": {
    "name": "ipython",
    "version": 2.0
   },
   "file_extension": ".py",
   "mimetype": "text/x-python",
   "name": "python",
   "nbconvert_exporter": "python",
   "pygments_lexer": "ipython2",
   "version": "2.7.6"
  }
 },
 "nbformat": 4,
 "nbformat_minor": 0
}